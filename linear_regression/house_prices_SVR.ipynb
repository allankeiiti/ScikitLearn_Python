{
 "cells": [
  {
   "cell_type": "markdown",
   "metadata": {},
   "source": [
    "## Regressão Linear com SVR (Support Vector Regression) com house_prices\n",
    "##### SVR (Support Vector Regression) possui os mesmos conceitos do SVM, porém tendo o diferencial de seu atributo epsilon,\n",
    "##### possuindo os seguintes kernels testados neste notebook: RBF (Segundo Jones, o que tem os melhores resultados)"
   ]
  },
  {
   "cell_type": "code",
   "execution_count": 6,
   "metadata": {},
   "outputs": [],
   "source": [
    "import pandas as pd\n",
    "base = pd.read_csv(r'house_prices.csv')"
   ]
  },
  {
   "cell_type": "code",
   "execution_count": 7,
   "metadata": {},
   "outputs": [
    {
     "name": "stdout",
     "output_type": "stream",
     "text": [
      "[[ 3.00000e+00  1.00000e+00  1.18000e+03 ...  9.81780e+04  4.75112e+01\n",
      "  -1.22257e+02]\n",
      " [ 3.00000e+00  2.25000e+00  2.57000e+03 ...  9.81250e+04  4.77210e+01\n",
      "  -1.22319e+02]\n",
      " [ 2.00000e+00  1.00000e+00  7.70000e+02 ...  9.80280e+04  4.77379e+01\n",
      "  -1.22233e+02]\n",
      " ...\n",
      " [ 2.00000e+00  7.50000e-01  1.02000e+03 ...  9.81440e+04  4.75944e+01\n",
      "  -1.22299e+02]\n",
      " [ 3.00000e+00  2.50000e+00  1.60000e+03 ...  9.80270e+04  4.75345e+01\n",
      "  -1.22069e+02]\n",
      " [ 2.00000e+00  7.50000e-01  1.02000e+03 ...  9.81440e+04  4.75941e+01\n",
      "  -1.22299e+02]]\n",
      "[[221900.]\n",
      " [538000.]\n",
      " [180000.]\n",
      " ...\n",
      " [402101.]\n",
      " [400000.]\n",
      " [325000.]]\n"
     ]
    }
   ],
   "source": [
    "X = base.iloc[:, 3:19].values\n",
    "y = base.iloc[:, 2:3].values\n",
    "print(X)\n",
    "print(y)"
   ]
  },
  {
   "cell_type": "markdown",
   "metadata": {},
   "source": [
    "##### Realizando o preprocessamento de X e y pois o kernel utilizado é o RBF"
   ]
  },
  {
   "cell_type": "code",
   "execution_count": 8,
   "metadata": {},
   "outputs": [
    {
     "name": "stdout",
     "output_type": "stream",
     "text": [
      "[[-0.39873715 -1.44746357 -0.97983502 ...  1.87015159 -0.35257175\n",
      "  -0.30607896]\n",
      " [-0.39873715  0.1756067   0.53363434 ...  0.87956753  1.16156823\n",
      "  -0.74634143]\n",
      " [-1.47395936 -1.44746357 -1.42625404 ... -0.9333882   1.28353661\n",
      "  -0.13565477]\n",
      " ...\n",
      " [-1.47395936 -1.77207762 -1.15404732 ...  1.23468257  0.24788796\n",
      "  -0.60432128]\n",
      " [-0.39873715  0.50022075 -0.52252773 ... -0.95207846 -0.18441416\n",
      "   1.02891048]\n",
      " [-1.47395936 -1.77207762 -1.15404732 ...  1.23468257  0.24572284\n",
      "  -0.60432128]]\n",
      "[[-0.86671733]\n",
      " [-0.00568792]\n",
      " [-0.98084935]\n",
      " ...\n",
      " [-0.37586519]\n",
      " [-0.38158814]\n",
      " [-0.58588173]]\n"
     ]
    }
   ],
   "source": [
    "from sklearn.preprocessing import StandardScaler\n",
    "scaler_x = StandardScaler()\n",
    "X = scaler_x.fit_transform(X)\n",
    "scaler_y = StandardScaler()\n",
    "y = scaler_y.fit_transform(y)\n",
    "print(X)\n",
    "print(y)"
   ]
  },
  {
   "cell_type": "code",
   "execution_count": 9,
   "metadata": {},
   "outputs": [],
   "source": [
    "from sklearn.model_selection import train_test_split\n",
    "X_train, X_test, y_train, y_test = train_test_split(X, y, test_size=0.3, random_state=0)"
   ]
  },
  {
   "cell_type": "code",
   "execution_count": 10,
   "metadata": {},
   "outputs": [
    {
     "name": "stderr",
     "output_type": "stream",
     "text": [
      "C:\\Anaconda3\\lib\\site-packages\\sklearn\\utils\\validation.py:760: DataConversionWarning: A column-vector y was passed when a 1d array was expected. Please change the shape of y to (n_samples, ), for example using ravel().\n",
      "  y = column_or_1d(y, warn=True)\n"
     ]
    },
    {
     "data": {
      "text/plain": [
       "SVR(C=1.0, cache_size=200, coef0=0.0, degree=3, epsilon=0.1, gamma='scale',\n",
       "    kernel='rbf', max_iter=-1, shrinking=True, tol=0.001, verbose=False)"
      ]
     },
     "execution_count": 10,
     "metadata": {},
     "output_type": "execute_result"
    }
   ],
   "source": [
    "# Treinamento do modelo\n",
    "from sklearn.svm import SVR\n",
    "regressor = SVR(kernel='rbf')\n",
    "regressor.fit(X_train, y_train)"
   ]
  },
  {
   "cell_type": "code",
   "execution_count": 12,
   "metadata": {},
   "outputs": [
    {
     "name": "stdout",
     "output_type": "stream",
     "text": [
      "0.8123465093269254\n"
     ]
    }
   ],
   "source": [
    "# Score do SVR em cima do treinamento de House_prices com RBF\n",
    "score = regressor.score(X_train, y_train)\n",
    "print(score)"
   ]
  },
  {
   "cell_type": "code",
   "execution_count": 13,
   "metadata": {},
   "outputs": [
    {
     "name": "stdout",
     "output_type": "stream",
     "text": [
      "0.7375903031882551\n"
     ]
    }
   ],
   "source": [
    "# Score do SVR em cima do teste de House_prices com RBF\n",
    "print(regressor.score(X_test, y_test))"
   ]
  },
  {
   "cell_type": "markdown",
   "metadata": {},
   "source": [
    "##### Obtendo previsoes"
   ]
  },
  {
   "cell_type": "code",
   "execution_count": 14,
   "metadata": {},
   "outputs": [
    {
     "name": "stdout",
     "output_type": "stream",
     "text": [
      "[-0.54140132  3.44956474  0.02550451 ... -0.46136154 -0.90562137\n",
      " -1.03010152]\n"
     ]
    }
   ],
   "source": [
    "previsoes = regressor.predict(X_test)\n",
    "print(previsoes)"
   ]
  },
  {
   "cell_type": "code",
   "execution_count": 16,
   "metadata": {},
   "outputs": [
    {
     "name": "stdout",
     "output_type": "stream",
     "text": [
      "[ 341329.58944883 1806487.87659637  549451.32286862 ...  370713.69062882\n",
      "  207617.59706888  161918.60662813]\n"
     ]
    }
   ],
   "source": [
    "# Revertendo o escalonamento de y_test\n",
    "y_test = scaler_y.inverse_transform(y_test)\n",
    "previsoes = scaler_y.inverse_transform(previsoes)\n",
    "print(previsoes)"
   ]
  },
  {
   "cell_type": "markdown",
   "metadata": {},
   "source": [
    "##### Obtendo o MAE (Mean Absolute Error)"
   ]
  },
  {
   "cell_type": "code",
   "execution_count": 17,
   "metadata": {},
   "outputs": [
    {
     "name": "stdout",
     "output_type": "stream",
     "text": [
      "197832267794.83667\n"
     ]
    }
   ],
   "source": [
    "from sklearn.metrics import mean_absolute_error\n",
    "mae = mean_absolute_error(y_test, previsoes)\n",
    "print(mae)"
   ]
  }
 ],
 "metadata": {
  "kernelspec": {
   "display_name": "Python 3",
   "language": "python",
   "name": "python3"
  },
  "language_info": {
   "codemirror_mode": {
    "name": "ipython",
    "version": 3
   },
   "file_extension": ".py",
   "mimetype": "text/x-python",
   "name": "python",
   "nbconvert_exporter": "python",
   "pygments_lexer": "ipython3",
   "version": "3.7.6"
  }
 },
 "nbformat": 4,
 "nbformat_minor": 4
}
