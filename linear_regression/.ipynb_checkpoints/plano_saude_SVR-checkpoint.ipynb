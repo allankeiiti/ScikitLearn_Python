{
 "cells": [
  {
   "cell_type": "markdown",
   "metadata": {},
   "source": [
    "## Regressão Linear com SVR (Support Vector Regression) com plano_saude\n",
    "##### SVR (Support Vector Regression) possui os mesmos conceitos do SVM, porém tendo o diferencial de seu atributo epsilon,\n",
    "##### possuindo os seguintes kernels testados neste notebook: Linear, Poly e RBF (Segundo Jones, o que tem os melhores resultados)"
   ]
  },
  {
   "cell_type": "code",
   "execution_count": 1,
   "metadata": {},
   "outputs": [],
   "source": [
    "import pandas as pd\n",
    "import matplotlib.pyplot as plt\n",
    "base = pd.read_csv(r'plano_saude.csv')\n",
    "X = base.iloc[:, 0:1].values\n",
    "y = base.iloc[:, 1].values"
   ]
  },
  {
   "cell_type": "markdown",
   "metadata": {},
   "source": [
    "##### Kernel Linear"
   ]
  },
  {
   "cell_type": "code",
   "execution_count": 2,
   "metadata": {},
   "outputs": [
    {
     "data": {
      "text/plain": [
       "SVR(C=1.0, cache_size=200, coef0=0.0, degree=3, epsilon=0.1, gamma='scale',\n",
       "    kernel='linear', max_iter=-1, shrinking=True, tol=0.001, verbose=False)"
      ]
     },
     "execution_count": 2,
     "metadata": {},
     "output_type": "execute_result"
    }
   ],
   "source": [
    "from sklearn.svm import SVR\n",
    "regressor_linear = SVR(kernel='linear')\n",
    "regressor_linear.fit(X, y)"
   ]
  },
  {
   "cell_type": "code",
   "execution_count": 3,
   "metadata": {},
   "outputs": [
    {
     "name": "stdout",
     "output_type": "stream",
     "text": [
      "Score Linear:  0.7580465950334248\n"
     ]
    },
    {
     "data": {
      "image/png": "[encoded data removed]",
      "text/plain": [
       "<Figure size 432x288 with 1 Axes>"
      ]
     },
     "metadata": {
      "needs_background": "light"
     },
     "output_type": "display_data"
    }
   ],
   "source": [
    "# Scatter gera os DOTs nos gráficos\n",
    "plt.scatter(X, y)\n",
    "plt.plot(X, regressor_linear.predict(X), color='red')\n",
    "plt.xlabel('Idade')\n",
    "plt.ylabel('Preço')\n",
    "plt.title('Kernel Linear')\n",
    "# Printando o Score de acertos com Kernel Linear\n",
    "print('Score Linear: ',regressor_linear.score(X, y))"
   ]
  },
  {
   "cell_type": "markdown",
   "metadata": {},
   "source": [
    "##### Kernel Poly"
   ]
  },
  {
   "cell_type": "code",
   "execution_count": 4,
   "metadata": {},
   "outputs": [
    {
     "data": {
      "text/plain": [
       "SVR(C=1.0, cache_size=200, coef0=0.0, degree=3, epsilon=0.1, gamma='scale',\n",
       "    kernel='poly', max_iter=-1, shrinking=True, tol=0.001, verbose=False)"
      ]
     },
     "execution_count": 4,
     "metadata": {},
     "output_type": "execute_result"
    }
   ],
   "source": [
    "regressor_poly = SVR(kernel='poly', degree=3)\n",
    "regressor_poly.fit(X, y)"
   ]
  },
  {
   "cell_type": "code",
   "execution_count": 5,
   "metadata": {},
   "outputs": [
    {
     "name": "stdout",
     "output_type": "stream",
     "text": [
      "Score Poly:  0.9741854981445548\n"
     ]
    },
    {
     "data": {
      "image/png": "[encoded data removed]",
      "text/plain": [
       "<Figure size 432x288 with 1 Axes>"
      ]
     },
     "metadata": {
      "needs_background": "light"
     },
     "output_type": "display_data"
    }
   ],
   "source": [
    "# Scatter gera os DOTs nos gráficos\n",
    "plt.scatter(X, y)\n",
    "plt.plot(X, regressor_poly.predict(X), color='red')\n",
    "plt.xlabel('Idade')\n",
    "plt.ylabel('Preço')\n",
    "plt.title('Kernel Poly')\n",
    "# Printando o Score de acertos com Kernel Poly\n",
    "print('Score Poly: ',regressor_poly.score(X, y))"
   ]
  },
  {
   "cell_type": "markdown",
   "metadata": {},
   "source": [
    "##### Kernel RBF"
   ]
  },
  {
   "cell_type": "code",
   "execution_count": 6,
   "metadata": {},
   "outputs": [
    {
     "name": "stdout",
     "output_type": "stream",
     "text": [
      "X antes do Preprocessamento:  [[18]\n",
      " [23]\n",
      " [28]\n",
      " [33]\n",
      " [38]\n",
      " [43]\n",
      " [48]\n",
      " [53]\n",
      " [58]\n",
      " [63]]\n",
      "X depois do Preprocessamento:  [[-1.5666989 ]\n",
      " [-1.21854359]\n",
      " [-0.87038828]\n",
      " [-0.52223297]\n",
      " [-0.17407766]\n",
      " [ 0.17407766]\n",
      " [ 0.52223297]\n",
      " [ 0.87038828]\n",
      " [ 1.21854359]\n",
      " [ 1.5666989 ]]\n",
      "y antes do preprocessamento:  [ 871 1132 1242 1356 1488 1638 2130 2454 3066 4090]\n",
      "y depois do Preprocessamento:  [[-1.12704467]\n",
      " [-0.85358678]\n",
      " [-0.73833632]\n",
      " [-0.61889494]\n",
      " [-0.4805944 ]\n",
      " [-0.32343469]\n",
      " [ 0.19204917]\n",
      " [ 0.53151414]\n",
      " [ 1.17272576]\n",
      " [ 2.24560272]]\n"
     ]
    },
    {
     "name": "stderr",
     "output_type": "stream",
     "text": [
      "C:\\Anaconda3\\lib\\site-packages\\sklearn\\utils\\validation.py:760: DataConversionWarning: A column-vector y was passed when a 1d array was expected. Please change the shape of y to (n_samples, ), for example using ravel().\n",
      "  y = column_or_1d(y, warn=True)\n"
     ]
    },
    {
     "data": {
      "text/plain": [
       "SVR(C=1.0, cache_size=200, coef0=0.0, degree=3, epsilon=0.1, gamma='scale',\n",
       "    kernel='rbf', max_iter=-1, shrinking=True, tol=0.001, verbose=False)"
      ]
     },
     "execution_count": 6,
     "metadata": {},
     "output_type": "execute_result"
    }
   ],
   "source": [
    "# Realizando o Preprocessamento de X e y\n",
    "from sklearn.preprocessing import StandardScaler\n",
    "scaler_x = StandardScaler()\n",
    "print('X antes do Preprocessamento: ', X)\n",
    "X = scaler_x.fit_transform(X)\n",
    "print('X depois do Preprocessamento: ', X)\n",
    "print('y antes do preprocessamento: ', y)\n",
    "scaler_y = StandardScaler()\n",
    "y = scaler_y.fit_transform(y.reshape(-1, 1))\n",
    "print('y depois do Preprocessamento: ', y)\n",
    "\n",
    "regressor_rbf = SVR(kernel='rbf')\n",
    "regressor_rbf.fit(X, y)"
   ]
  },
  {
   "cell_type": "code",
   "execution_count": 7,
   "metadata": {},
   "outputs": [
    {
     "name": "stdout",
     "output_type": "stream",
     "text": [
      "Score rbf:  0.8930263523339649\n"
     ]
    },
    {
     "data": {
      "image/png": "[encoded data removed]",
      "text/plain": [
       "<Figure size 432x288 with 1 Axes>"
      ]
     },
     "metadata": {
      "needs_background": "light"
     },
     "output_type": "display_data"
    }
   ],
   "source": [
    "# Scatter gera os DOTs nos gráficos\n",
    "plt.scatter(X, y)\n",
    "plt.plot(X, regressor_rbf.predict(X), color='red')\n",
    "plt.xlabel('Idade')\n",
    "plt.ylabel('Preço')\n",
    "plt.title('Kernel rbf')\n",
    "# Printando o Score de acertos com Kernel rbf\n",
    "print('Score rbf: ',regressor_rbf.score(X, y))"
   ]
  },
  {
   "cell_type": "code",
   "execution_count": 15,
   "metadata": {},
   "outputs": [],
   "source": [
    "previsao_linear = scaler_y.inverse_transform(regressor_linear.predict(scaler_x.transform([[40], ])))\n",
    "previsao_poly = scaler_y.inverse_transform(regressor_poly.predict(scaler_x.transform([[40], ])))\n",
    "previsao_rbf = scaler_y.inverse_transform(regressor_rbf.predict(scaler_x.transform([[40], ])))"
   ]
  },
  {
   "cell_type": "code",
   "execution_count": 16,
   "metadata": {},
   "outputs": [
    {
     "name": "stdout",
     "output_type": "stream",
     "text": [
      "[110675.59310728]\n",
      "[866320.99833165]\n",
      "[1606.46471261]\n"
     ]
    }
   ],
   "source": [
    "print(previsao_linear)\n",
    "print(previsao_poly)\n",
    "print(previsao_rbf)"
   ]
  }
 ],
 "metadata": {
  "kernelspec": {
   "display_name": "Python 3",
   "language": "python",
   "name": "python3"
  },
  "language_info": {
   "codemirror_mode": {
    "name": "ipython",
    "version": 3
   },
   "file_extension": ".py",
   "mimetype": "text/x-python",
   "name": "python",
   "nbconvert_exporter": "python",
   "pygments_lexer": "ipython3",
   "version": "3.7.6"
  }
 },
 "nbformat": 4,
 "nbformat_minor": 4
}
