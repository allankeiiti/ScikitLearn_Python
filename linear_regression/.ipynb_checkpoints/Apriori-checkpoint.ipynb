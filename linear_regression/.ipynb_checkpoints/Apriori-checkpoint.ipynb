{
 "cells": [
  {
   "cell_type": "markdown",
   "metadata": {},
   "source": [
    "#### Explicando Algoritmo Apriori (Associação) com base no curso de ML do Jones Granatyr"
   ]
  },
  {
   "cell_type": "code",
   "execution_count": null,
   "metadata": {},
   "outputs": [],
   "source": [
    "import pandas as pd\n",
    "d = {'Leite': [False, True, False, True, False, False, False, False, False, False],\n",
    "     'Café': [True, False, True, True, False, False, False, False, False, False],\n",
    "     'Cerveja': [False, True, False, False, True, False, False, False, False, False],\n",
    "     'Pão': [True, True, True, True, False, False, True, False, False, False],\n",
    "     'Manteiga': [True, True, True, True, False, True, False, False, False, False],\n",
    "     'Arroz': [False, False, False, False, False, False, False, False, True, True],\n",
    "     'Feijão': [False, False, False, False, False, False, False, True, True, False]}\n",
    "df = pd.DataFrame(data=d)\n",
    "del d"
   ]
  },
  {
   "cell_type": "code",
   "execution_count": null,
   "metadata": {},
   "outputs": [],
   "source": [
    "df"
   ]
  },
  {
   "cell_type": "code",
   "execution_count": null,
   "metadata": {},
   "outputs": [],
   "source": []
  }
 ],
 "metadata": {
  "kernelspec": {
   "display_name": "Python 3",
   "language": "python",
   "name": "python3"
  },
  "language_info": {
   "codemirror_mode": {
    "name": "ipython",
    "version": 3
   },
   "file_extension": ".py",
   "mimetype": "text/x-python",
   "name": "python",
   "nbconvert_exporter": "python",
   "pygments_lexer": "ipython3",
   "version": "3.7.6"
  }
 },
 "nbformat": 4,
 "nbformat_minor": 4
}
