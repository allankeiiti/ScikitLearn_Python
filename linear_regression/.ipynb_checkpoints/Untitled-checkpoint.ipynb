{
 "cells": [
  {
   "cell_type": "markdown",
   "metadata": {},
   "source": [
    "# Regressão com Random Forest no plano_saude"
   ]
  },
  {
   "cell_type": "code",
   "execution_count": 9,
   "metadata": {},
   "outputs": [],
   "source": [
    "import pandas as pd\n",
    "base = pd.read_csv('plano_saude2.csv')"
   ]
  },
  {
   "cell_type": "code",
   "execution_count": 10,
   "metadata": {},
   "outputs": [
    {
     "data": {
      "text/html": [
       "<div>\n",
       "<style scoped>\n",
       "    .dataframe tbody tr th:only-of-type {\n",
       "        vertical-align: middle;\n",
       "    }\n",
       "\n",
       "    .dataframe tbody tr th {\n",
       "        vertical-align: top;\n",
       "    }\n",
       "\n",
       "    .dataframe thead th {\n",
       "        text-align: right;\n",
       "    }\n",
       "</style>\n",
       "<table border=\"1\" class=\"dataframe\">\n",
       "  <thead>\n",
       "    <tr style=\"text-align: right;\">\n",
       "      <th></th>\n",
       "      <th>idade</th>\n",
       "      <th>custo</th>\n",
       "    </tr>\n",
       "  </thead>\n",
       "  <tbody>\n",
       "    <tr>\n",
       "      <th>0</th>\n",
       "      <td>18</td>\n",
       "      <td>470</td>\n",
       "    </tr>\n",
       "    <tr>\n",
       "      <th>1</th>\n",
       "      <td>23</td>\n",
       "      <td>520</td>\n",
       "    </tr>\n",
       "    <tr>\n",
       "      <th>2</th>\n",
       "      <td>28</td>\n",
       "      <td>630</td>\n",
       "    </tr>\n",
       "    <tr>\n",
       "      <th>3</th>\n",
       "      <td>33</td>\n",
       "      <td>830</td>\n",
       "    </tr>\n",
       "    <tr>\n",
       "      <th>4</th>\n",
       "      <td>38</td>\n",
       "      <td>1150</td>\n",
       "    </tr>\n",
       "  </tbody>\n",
       "</table>\n",
       "</div>"
      ],
      "text/plain": [
       "   idade  custo\n",
       "0     18    470\n",
       "1     23    520\n",
       "2     28    630\n",
       "3     33    830\n",
       "4     38   1150"
      ]
     },
     "execution_count": 10,
     "metadata": {},
     "output_type": "execute_result"
    }
   ],
   "source": [
    "base.head()"
   ]
  },
  {
   "cell_type": "code",
   "execution_count": 11,
   "metadata": {},
   "outputs": [],
   "source": [
    "X = base.iloc[:, 0].values\n",
    "X = X.reshape(-1, 1)\n",
    "y = y.reshape(-1, 1)"
   ]
  },
  {
   "cell_type": "code",
   "execution_count": 12,
   "metadata": {},
   "outputs": [],
   "source": [
    "from sklearn.ensemble import RandomForestRegressor\n",
    "regressor = RandomForestRegressor(n_estimators=10)"
   ]
  },
  {
   "cell_type": "code",
   "execution_count": 13,
   "metadata": {},
   "outputs": [
    {
     "name": "stderr",
     "output_type": "stream",
     "text": [
      "C:\\Anaconda3\\lib\\site-packages\\ipykernel_launcher.py:1: DataConversionWarning: A column-vector y was passed when a 1d array was expected. Please change the shape of y to (n_samples,), for example using ravel().\n",
      "  \"\"\"Entry point for launching an IPython kernel.\n"
     ]
    },
    {
     "data": {
      "text/plain": [
       "RandomForestRegressor(bootstrap=True, ccp_alpha=0.0, criterion='mse',\n",
       "                      max_depth=None, max_features='auto', max_leaf_nodes=None,\n",
       "                      max_samples=None, min_impurity_decrease=0.0,\n",
       "                      min_impurity_split=None, min_samples_leaf=1,\n",
       "                      min_samples_split=2, min_weight_fraction_leaf=0.0,\n",
       "                      n_estimators=10, n_jobs=None, oob_score=False,\n",
       "                      random_state=None, verbose=0, warm_start=False)"
      ]
     },
     "execution_count": 13,
     "metadata": {},
     "output_type": "execute_result"
    }
   ],
   "source": [
    "regressor.fit(X, y)"
   ]
  },
  {
   "cell_type": "code",
   "execution_count": 7,
   "metadata": {},
   "outputs": [
    {
     "data": {
      "text/plain": [
       "array([[  470],\n",
       "       [  520],\n",
       "       [  630],\n",
       "       [  830],\n",
       "       [ 1150],\n",
       "       [ 1530],\n",
       "       [ 2040],\n",
       "       [ 3080],\n",
       "       [ 5100],\n",
       "       [10100]], dtype=int64)"
      ]
     },
     "execution_count": 7,
     "metadata": {},
     "output_type": "execute_result"
    }
   ],
   "source": [
    "y"
   ]
  },
  {
   "cell_type": "code",
   "execution_count": 4,
   "metadata": {},
   "outputs": [],
   "source": [
    "import numpy as np\n",
    "# O np.arange extende a distância do minimo e maximo de X\n",
    "X_test = np.arange(min(X), max(X), 0.1)"
   ]
  },
  {
   "cell_type": "code",
   "execution_count": 5,
   "metadata": {},
   "outputs": [
    {
     "name": "stdout",
     "output_type": "stream",
     "text": [
      "[18.  18.1 18.2 18.3 18.4 18.5 18.6 18.7 18.8 18.9 19.  19.1 19.2 19.3\n",
      " 19.4 19.5 19.6 19.7 19.8 19.9 20.  20.1 20.2 20.3 20.4 20.5 20.6 20.7\n",
      " 20.8 20.9 21.  21.1 21.2 21.3 21.4 21.5 21.6 21.7 21.8 21.9 22.  22.1\n",
      " 22.2 22.3 22.4 22.5 22.6 22.7 22.8 22.9 23.  23.1 23.2 23.3 23.4 23.5\n",
      " 23.6 23.7 23.8 23.9 24.  24.1 24.2 24.3 24.4 24.5 24.6 24.7 24.8 24.9\n",
      " 25.  25.1 25.2 25.3 25.4 25.5 25.6 25.7 25.8 25.9 26.  26.1 26.2 26.3\n",
      " 26.4 26.5 26.6 26.7 26.8 26.9 27.  27.1 27.2 27.3 27.4 27.5 27.6 27.7\n",
      " 27.8 27.9 28.  28.1 28.2 28.3 28.4 28.5 28.6 28.7 28.8 28.9 29.  29.1\n",
      " 29.2 29.3 29.4 29.5 29.6 29.7 29.8 29.9 30.  30.1 30.2 30.3 30.4 30.5\n",
      " 30.6 30.7 30.8 30.9 31.  31.1 31.2 31.3 31.4 31.5 31.6 31.7 31.8 31.9\n",
      " 32.  32.1 32.2 32.3 32.4 32.5 32.6 32.7 32.8 32.9 33.  33.1 33.2 33.3\n",
      " 33.4 33.5 33.6 33.7 33.8 33.9 34.  34.1 34.2 34.3 34.4 34.5 34.6 34.7\n",
      " 34.8 34.9 35.  35.1 35.2 35.3 35.4 35.5 35.6 35.7 35.8 35.9 36.  36.1\n",
      " 36.2 36.3 36.4 36.5 36.6 36.7 36.8 36.9 37.  37.1 37.2 37.3 37.4 37.5\n",
      " 37.6 37.7 37.8 37.9 38.  38.1 38.2 38.3 38.4 38.5 38.6 38.7 38.8 38.9\n",
      " 39.  39.1 39.2 39.3 39.4 39.5 39.6 39.7 39.8 39.9 40.  40.1 40.2 40.3\n",
      " 40.4 40.5 40.6 40.7 40.8 40.9 41.  41.1 41.2 41.3 41.4 41.5 41.6 41.7\n",
      " 41.8 41.9 42.  42.1 42.2 42.3 42.4 42.5 42.6 42.7 42.8 42.9 43.  43.1\n",
      " 43.2 43.3 43.4 43.5 43.6 43.7 43.8 43.9 44.  44.1 44.2 44.3 44.4 44.5\n",
      " 44.6 44.7 44.8 44.9 45.  45.1 45.2 45.3 45.4 45.5 45.6 45.7 45.8 45.9\n",
      " 46.  46.1 46.2 46.3 46.4 46.5 46.6 46.7 46.8 46.9 47.  47.1 47.2 47.3\n",
      " 47.4 47.5 47.6 47.7 47.8 47.9 48.  48.1 48.2 48.3 48.4 48.5 48.6 48.7\n",
      " 48.8 48.9 49.  49.1 49.2 49.3 49.4 49.5 49.6 49.7 49.8 49.9 50.  50.1\n",
      " 50.2 50.3 50.4 50.5 50.6 50.7 50.8 50.9 51.  51.1 51.2 51.3 51.4 51.5\n",
      " 51.6 51.7 51.8 51.9 52.  52.1 52.2 52.3 52.4 52.5 52.6 52.7 52.8 52.9\n",
      " 53.  53.1 53.2 53.3 53.4 53.5 53.6 53.7 53.8 53.9 54.  54.1 54.2 54.3\n",
      " 54.4 54.5 54.6 54.7 54.8 54.9 55.  55.1 55.2 55.3 55.4 55.5 55.6 55.7\n",
      " 55.8 55.9 56.  56.1 56.2 56.3 56.4 56.5 56.6 56.7 56.8 56.9 57.  57.1\n",
      " 57.2 57.3 57.4 57.5 57.6 57.7 57.8 57.9 58.  58.1 58.2 58.3 58.4 58.5\n",
      " 58.6 58.7 58.8 58.9 59.  59.1 59.2 59.3 59.4 59.5 59.6 59.7 59.8 59.9\n",
      " 60.  60.1 60.2 60.3 60.4 60.5 60.6 60.7 60.8 60.9 61.  61.1 61.2 61.3\n",
      " 61.4 61.5 61.6 61.7 61.8 61.9 62.  62.1 62.2 62.3 62.4 62.5 62.6 62.7\n",
      " 62.8 62.9]\n"
     ]
    }
   ],
   "source": [
    "print(X_test)"
   ]
  },
  {
   "cell_type": "code",
   "execution_count": 6,
   "metadata": {},
   "outputs": [],
   "source": [
    "X_test = X_test.reshape(-1, 1)"
   ]
  },
  {
   "cell_type": "code",
   "execution_count": null,
   "metadata": {},
   "outputs": [],
   "source": []
  }
 ],
 "metadata": {
  "kernelspec": {
   "display_name": "Python 3",
   "language": "python",
   "name": "python3"
  },
  "language_info": {
   "codemirror_mode": {
    "name": "ipython",
    "version": 3
   },
   "file_extension": ".py",
   "mimetype": "text/x-python",
   "name": "python",
   "nbconvert_exporter": "python",
   "pygments_lexer": "ipython3",
   "version": "3.7.6"
  }
 },
 "nbformat": 4,
 "nbformat_minor": 4
}
