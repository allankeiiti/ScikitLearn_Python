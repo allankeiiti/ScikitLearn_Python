{
 "cells": [
  {
   "cell_type": "markdown",
   "metadata": {},
   "source": [
    "# ECLAT\n",
    "##### Versão simplificada do Apriori: No apriori é gerado regras com base na confiança e lift para avaliar se a regra é boa, <br> O ECLAT utiliza somente o Suporte (Cojunto de Itens)\n",
    "##### O ECLAT então:<br>1. Define o suporte<br>2. Extrai conjunto de itens que tenham o suporte mínimo<br>3. Ordena os dados de acordo com o suporte "
   ]
  },
  {
   "cell_type": "code",
   "execution_count": null,
   "metadata": {},
   "outputs": [],
   "source": []
  }
 ],
 "metadata": {
  "kernelspec": {
   "display_name": "Python 3",
   "language": "python",
   "name": "python3"
  },
  "language_info": {
   "codemirror_mode": {
    "name": "ipython",
    "version": 3
   },
   "file_extension": ".py",
   "mimetype": "text/x-python",
   "name": "python",
   "nbconvert_exporter": "python",
   "pygments_lexer": "ipython3",
   "version": "3.7.6"
  }
 },
 "nbformat": 4,
 "nbformat_minor": 4
}
