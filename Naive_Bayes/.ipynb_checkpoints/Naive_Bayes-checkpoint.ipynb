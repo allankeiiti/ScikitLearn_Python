{
 "cells": [
  {
   "cell_type": "markdown",
   "metadata": {},
   "source": [
    "## Naive Bayes - Aprendizagem bayesiana\n",
    "\n",
    "Algoritmo baseado totalmente em probabilidade (Teorema de Bayes), voltado para classificação binária ou multi-classificação. O algoritmo possui esse nome (*naive* = Bobo, idiota) por conta que ele trata cada atributo como independente em seus cálculos, ou seja, um atributo não afeta o outro.\n",
    "\n",
    "### Teorema de Bayes\n",
    "\n",
    "\n",
    "Equaciona o problema de maneira genérica.\n",
    "Qual a probabilidade de dar A caso tenha dado B? P(A | B)\n",
    "Qual a probabilidade de dar B caso tenha dado A? P(B | A)\n",
    "Qual a probabilidade de dar A? P(A)"
   ]
  },
  {
   "cell_type": "markdown",
   "metadata": {},
   "source": [
    "![](data:image/png;base64,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)"
   ]
  },
  {
   "cell_type": "markdown",
   "metadata": {},
   "source": [
    "Feito o cálculo com a probabilidade posterior, é selecionado a hipótese com a maior probabilidade, que pode ser chamado de (MAP):\n",
    "\n",
    "__MAP(h) = max(P(h|d))__ ou __MAP(h) = max((P(d|h) * P(h)) / P(d))__ ou __MAP(h) = max(P(d|h) * P(h))__\n",
    "\n",
    "\n",
    "### Calculando probabilidades de classe\n",
    "\n",
    "A probabilidade de classe é a frequência de cada atributo por classe divido pelo total de instâncias como por exemplo a foto abaixo."
   ]
  },
  {
   "cell_type": "code",
   "execution_count": 1,
   "metadata": {},
   "outputs": [
    {
     "data": {
      "text/html": [
       "<div>\n",
       "<style scoped>\n",
       "    .dataframe tbody tr th:only-of-type {\n",
       "        vertical-align: middle;\n",
       "    }\n",
       "\n",
       "    .dataframe tbody tr th {\n",
       "        vertical-align: top;\n",
       "    }\n",
       "\n",
       "    .dataframe thead th {\n",
       "        text-align: right;\n",
       "    }\n",
       "</style>\n",
       "<table border=\"1\" class=\"dataframe\">\n",
       "  <thead>\n",
       "    <tr style=\"text-align: right;\">\n",
       "      <th></th>\n",
       "      <th>historia</th>\n",
       "      <th>divida</th>\n",
       "      <th>garantias</th>\n",
       "      <th>renda</th>\n",
       "      <th>risco</th>\n",
       "    </tr>\n",
       "  </thead>\n",
       "  <tbody>\n",
       "    <tr>\n",
       "      <th>0</th>\n",
       "      <td>ruim</td>\n",
       "      <td>alta</td>\n",
       "      <td>nenhuma</td>\n",
       "      <td>0_15</td>\n",
       "      <td>alto</td>\n",
       "    </tr>\n",
       "    <tr>\n",
       "      <th>1</th>\n",
       "      <td>desconhecida</td>\n",
       "      <td>alta</td>\n",
       "      <td>nenhuma</td>\n",
       "      <td>15_35</td>\n",
       "      <td>alto</td>\n",
       "    </tr>\n",
       "    <tr>\n",
       "      <th>2</th>\n",
       "      <td>desconhecida</td>\n",
       "      <td>baixa</td>\n",
       "      <td>nenhuma</td>\n",
       "      <td>15_35</td>\n",
       "      <td>moderado</td>\n",
       "    </tr>\n",
       "    <tr>\n",
       "      <th>3</th>\n",
       "      <td>desconhecida</td>\n",
       "      <td>baixa</td>\n",
       "      <td>nenhuma</td>\n",
       "      <td>acima_35</td>\n",
       "      <td>alto</td>\n",
       "    </tr>\n",
       "    <tr>\n",
       "      <th>4</th>\n",
       "      <td>desconhecida</td>\n",
       "      <td>baixa</td>\n",
       "      <td>nenhuma</td>\n",
       "      <td>acima_35</td>\n",
       "      <td>baixo</td>\n",
       "    </tr>\n",
       "    <tr>\n",
       "      <th>5</th>\n",
       "      <td>desconhecida</td>\n",
       "      <td>baixa</td>\n",
       "      <td>adequada</td>\n",
       "      <td>acima_35</td>\n",
       "      <td>baixo</td>\n",
       "    </tr>\n",
       "    <tr>\n",
       "      <th>6</th>\n",
       "      <td>ruim</td>\n",
       "      <td>baixa</td>\n",
       "      <td>nenhuma</td>\n",
       "      <td>0_15</td>\n",
       "      <td>alto</td>\n",
       "    </tr>\n",
       "    <tr>\n",
       "      <th>7</th>\n",
       "      <td>ruim</td>\n",
       "      <td>baixa</td>\n",
       "      <td>adequada</td>\n",
       "      <td>acima_35</td>\n",
       "      <td>moderado</td>\n",
       "    </tr>\n",
       "    <tr>\n",
       "      <th>8</th>\n",
       "      <td>boa</td>\n",
       "      <td>baixa</td>\n",
       "      <td>nenhuma</td>\n",
       "      <td>acima_35</td>\n",
       "      <td>baixo</td>\n",
       "    </tr>\n",
       "    <tr>\n",
       "      <th>9</th>\n",
       "      <td>boa</td>\n",
       "      <td>alta</td>\n",
       "      <td>adequada</td>\n",
       "      <td>acima_35</td>\n",
       "      <td>baixo</td>\n",
       "    </tr>\n",
       "  </tbody>\n",
       "</table>\n",
       "</div>"
      ],
      "text/plain": [
       "       historia divida garantias     renda     risco\n",
       "0          ruim   alta   nenhuma      0_15      alto\n",
       "1  desconhecida   alta   nenhuma     15_35      alto\n",
       "2  desconhecida  baixa   nenhuma     15_35  moderado\n",
       "3  desconhecida  baixa   nenhuma  acima_35      alto\n",
       "4  desconhecida  baixa   nenhuma  acima_35     baixo\n",
       "5  desconhecida  baixa  adequada  acima_35     baixo\n",
       "6          ruim  baixa   nenhuma      0_15      alto\n",
       "7          ruim  baixa  adequada  acima_35  moderado\n",
       "8           boa  baixa   nenhuma  acima_35     baixo\n",
       "9           boa   alta  adequada  acima_35     baixo"
      ]
     },
     "execution_count": 1,
     "metadata": {},
     "output_type": "execute_result"
    }
   ],
   "source": [
    "import pandas as pd\n",
    "base = pd.read_csv('risco_credito.csv')\n",
    "base.head(10)"
   ]
  },
  {
   "cell_type": "markdown",
   "metadata": {},
   "source": [
    "Trabalha consultando bases históricas, montando uma tabela de probabilidade (baseado no teorema de Bayes da equação acima) em cima da base. Como no exemplo abaixo:\n",
    "\n",
    "![](tabela_naive_bayes_base_credito.png)\n",
    "\n",
    "Na parte com textmark, vemos a equação do Teorema de Bayes. Pois nela quer se saber qual a probabilidade do Risco de crédito ser alto, moderado ou baixo, dado a probabilidade, o algoritmo concede uma classificação a tal registro.\n",
    "\n",
    "### Correção Laplaciana (Quando leio isso me lembra o *pokémon* Lapras)\n",
    "\n",
    "Essa correção ocorre durante o levantamento de probabilidades, onde tal frequência é '0'. Sendo zero ela acaba influenciando no cálculo já que numa multiplicação envolvendo Zero o resultado acaba sendo 0.\n",
    "\n",
    "A correção Laplaciana adiciona quantos registros forem necessários para evitar as multiplicações por zero. "
   ]
  },
  {
   "cell_type": "markdown",
   "metadata": {},
   "source": [
    "### Probabilidades Apriori e Posteriori\n",
    "\n",
    "\n",
    "#### Vantagens\n",
    "- Não requer muito recurso computacional, é ágil\n",
    "- Possui uma simplicidade de interpretação\n",
    "- Pode trabalhar com altas dimensões (diversos atributos)\n",
    "- Boas previsões em bases de dados pequenas (aprox. 200, 400 registros)\n",
    "\n",
    "#### Desvantagens\n",
    "- Por realizar a combinação de atributos, ele as considera __Independentes__ e nem sempre é verdade\n",
    "\n",
    "\n",
    "#### Observações\n",
    "- Naive Bayes não aceita ATRIBUTOS categóricos em seu treinamento, portanto são padronizados em inteiros."
   ]
  },
  {
   "cell_type": "markdown",
   "metadata": {},
   "source": [
    "### Referências:\n",
    "\n",
    "1. <a href=\"https://www.youtube.com/watch?v=I643PqSrETM\">Entenda o Teorema de Bayes (Youtube)</a>\n",
    "2. <a href=\"https://machinelearningmastery.com/naive-bayes-for-machine-learning/\">Machine Learning - Naive Bayes</a>\n",
    "3. <a href=\"https://scikit-learn.org/stable/modules/generated/sklearn.naive_bayes.GaussianNB.html\">Scikit-Learn Documentation - Naive Bayes GaussianNB</a>"
   ]
  }
 ],
 "metadata": {
  "kernelspec": {
   "display_name": "Python 3",
   "language": "python",
   "name": "python3"
  },
  "language_info": {
   "codemirror_mode": {
    "name": "ipython",
    "version": 3
   },
   "file_extension": ".py",
   "mimetype": "text/x-python",
   "name": "python",
   "nbconvert_exporter": "python",
   "pygments_lexer": "ipython3",
   "version": "3.8.3"
  }
 },
 "nbformat": 4,
 "nbformat_minor": 4
}
