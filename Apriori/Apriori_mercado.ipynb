{
 "cells": [
  {
   "cell_type": "markdown",
   "metadata": {},
   "source": [
    "### Apriori na base de mercado"
   ]
  },
  {
   "cell_type": "code",
   "execution_count": 1,
   "metadata": {},
   "outputs": [
    {
     "data": {
      "text/html": [
       "<div>\n",
       "<style scoped>\n",
       "    .dataframe tbody tr th:only-of-type {\n",
       "        vertical-align: middle;\n",
       "    }\n",
       "\n",
       "    .dataframe tbody tr th {\n",
       "        vertical-align: top;\n",
       "    }\n",
       "\n",
       "    .dataframe thead th {\n",
       "        text-align: right;\n",
       "    }\n",
       "</style>\n",
       "<table border=\"1\" class=\"dataframe\">\n",
       "  <thead>\n",
       "    <tr style=\"text-align: right;\">\n",
       "      <th></th>\n",
       "      <th>0</th>\n",
       "      <th>1</th>\n",
       "      <th>2</th>\n",
       "      <th>3</th>\n",
       "    </tr>\n",
       "  </thead>\n",
       "  <tbody>\n",
       "    <tr>\n",
       "      <th>0</th>\n",
       "      <td>leite</td>\n",
       "      <td>cerveja</td>\n",
       "      <td>pao</td>\n",
       "      <td>manteiga</td>\n",
       "    </tr>\n",
       "    <tr>\n",
       "      <th>1</th>\n",
       "      <td>cafe</td>\n",
       "      <td>pao</td>\n",
       "      <td>manteiga</td>\n",
       "      <td>NaN</td>\n",
       "    </tr>\n",
       "    <tr>\n",
       "      <th>2</th>\n",
       "      <td>cafe</td>\n",
       "      <td>pao</td>\n",
       "      <td>manteiga</td>\n",
       "      <td>NaN</td>\n",
       "    </tr>\n",
       "    <tr>\n",
       "      <th>3</th>\n",
       "      <td>leite</td>\n",
       "      <td>cafe</td>\n",
       "      <td>pao</td>\n",
       "      <td>manteiga</td>\n",
       "    </tr>\n",
       "    <tr>\n",
       "      <th>4</th>\n",
       "      <td>cerveja</td>\n",
       "      <td>NaN</td>\n",
       "      <td>NaN</td>\n",
       "      <td>NaN</td>\n",
       "    </tr>\n",
       "    <tr>\n",
       "      <th>5</th>\n",
       "      <td>manteiga</td>\n",
       "      <td>NaN</td>\n",
       "      <td>NaN</td>\n",
       "      <td>NaN</td>\n",
       "    </tr>\n",
       "    <tr>\n",
       "      <th>6</th>\n",
       "      <td>pao</td>\n",
       "      <td>NaN</td>\n",
       "      <td>NaN</td>\n",
       "      <td>NaN</td>\n",
       "    </tr>\n",
       "    <tr>\n",
       "      <th>7</th>\n",
       "      <td>feijao</td>\n",
       "      <td>NaN</td>\n",
       "      <td>NaN</td>\n",
       "      <td>NaN</td>\n",
       "    </tr>\n",
       "    <tr>\n",
       "      <th>8</th>\n",
       "      <td>arroz</td>\n",
       "      <td>feijao</td>\n",
       "      <td>NaN</td>\n",
       "      <td>NaN</td>\n",
       "    </tr>\n",
       "    <tr>\n",
       "      <th>9</th>\n",
       "      <td>arroz</td>\n",
       "      <td>NaN</td>\n",
       "      <td>NaN</td>\n",
       "      <td>NaN</td>\n",
       "    </tr>\n",
       "  </tbody>\n",
       "</table>\n",
       "</div>"
      ],
      "text/plain": [
       "          0        1         2         3\n",
       "0     leite  cerveja       pao  manteiga\n",
       "1      cafe      pao  manteiga       NaN\n",
       "2      cafe      pao  manteiga       NaN\n",
       "3     leite     cafe       pao  manteiga\n",
       "4   cerveja      NaN       NaN       NaN\n",
       "5  manteiga      NaN       NaN       NaN\n",
       "6       pao      NaN       NaN       NaN\n",
       "7    feijao      NaN       NaN       NaN\n",
       "8     arroz   feijao       NaN       NaN\n",
       "9     arroz      NaN       NaN       NaN"
      ]
     },
     "execution_count": 1,
     "metadata": {},
     "output_type": "execute_result"
    }
   ],
   "source": [
    "import pandas as pd\n",
    "base = pd.read_csv(r'mercado.csv', header=None)\n",
    "base"
   ]
  },
  {
   "cell_type": "code",
   "execution_count": 2,
   "metadata": {},
   "outputs": [
    {
     "data": {
      "text/plain": [
       "[['leite', 'cerveja', 'pao', 'manteiga'],\n",
       " ['cafe', 'pao', 'manteiga', 'nan'],\n",
       " ['cafe', 'pao', 'manteiga', 'nan'],\n",
       " ['leite', 'cafe', 'pao', 'manteiga'],\n",
       " ['cerveja', 'nan', 'nan', 'nan'],\n",
       " ['manteiga', 'nan', 'nan', 'nan'],\n",
       " ['pao', 'nan', 'nan', 'nan'],\n",
       " ['feijao', 'nan', 'nan', 'nan'],\n",
       " ['arroz', 'feijao', 'nan', 'nan'],\n",
       " ['arroz', 'nan', 'nan', 'nan']]"
      ]
     },
     "execution_count": 2,
     "metadata": {},
     "output_type": "execute_result"
    }
   ],
   "source": [
    "transacoes = []\n",
    "for i in range(0, 10):\n",
    "    transacoes.append([str(base.values[i, j]) for j in range(0, 4)])\n",
    "transacoes"
   ]
  },
  {
   "cell_type": "code",
   "execution_count": 3,
   "metadata": {},
   "outputs": [
    {
     "name": "stdout",
     "output_type": "stream",
     "text": [
      "Foram encontrados 3 resultados.\n"
     ]
    }
   ],
   "source": [
    "from apyori import apriori\n",
    "regras = apriori(transacoes,\n",
    "                 min_support=0.3,\n",
    "                 min_confidence=0.8,\n",
    "                 min_lift=2,\n",
    "                 min_lenght=2)\n",
    "resultados = list(regras)\n",
    "print(f'Foram encontrados {len(resultados)} resultados.')"
   ]
  },
  {
   "cell_type": "code",
   "execution_count": 4,
   "metadata": {},
   "outputs": [
    {
     "data": {
      "text/plain": [
       "[[frozenset({'cafe', 'manteiga'}),\n",
       "  0.3,\n",
       "  [OrderedStatistic(items_base=frozenset({'cafe'}), items_add=frozenset({'manteiga'}), confidence=1.0, lift=2.0)]],\n",
       " [frozenset({'cafe', 'pao'}),\n",
       "  0.3,\n",
       "  [OrderedStatistic(items_base=frozenset({'cafe'}), items_add=frozenset({'pao'}), confidence=1.0, lift=2.0)]],\n",
       " [frozenset({'cafe', 'manteiga', 'pao'}),\n",
       "  0.3,\n",
       "  [OrderedStatistic(items_base=frozenset({'cafe', 'manteiga'}), items_add=frozenset({'pao'}), confidence=1.0, lift=2.0),\n",
       "   OrderedStatistic(items_base=frozenset({'cafe', 'pao'}), items_add=frozenset({'manteiga'}), confidence=1.0, lift=2.0)]]]"
      ]
     },
     "execution_count": 4,
     "metadata": {},
     "output_type": "execute_result"
    }
   ],
   "source": [
    "resultados2 = [list(x) for x in resultados]\n",
    "resultados2"
   ]
  },
  {
   "cell_type": "code",
   "execution_count": 5,
   "metadata": {},
   "outputs": [],
   "source": [
    "# Deixando mais legível o resultado das regras com apriori\n",
    "resultadoFormatado = []\n",
    "for j in range(0, 3):\n",
    "    resultadoFormatado.append([list(x) for x in resultados[j][2]])"
   ]
  },
  {
   "cell_type": "code",
   "execution_count": 6,
   "metadata": {},
   "outputs": [
    {
     "data": {
      "text/plain": [
       "[[[frozenset({'cafe'}), frozenset({'manteiga'}), 1.0, 2.0]],\n",
       " [[frozenset({'cafe'}), frozenset({'pao'}), 1.0, 2.0]],\n",
       " [[frozenset({'cafe', 'manteiga'}), frozenset({'pao'}), 1.0, 2.0],\n",
       "  [frozenset({'cafe', 'pao'}), frozenset({'manteiga'}), 1.0, 2.0]]]"
      ]
     },
     "execution_count": 6,
     "metadata": {},
     "output_type": "execute_result"
    }
   ],
   "source": [
    "resultadoFormatado"
   ]
  },
  {
   "cell_type": "code",
   "execution_count": null,
   "metadata": {},
   "outputs": [],
   "source": []
  }
 ],
 "metadata": {
  "kernelspec": {
   "display_name": "Python 3",
   "language": "python",
   "name": "python3"
  },
  "language_info": {
   "codemirror_mode": {
    "name": "ipython",
    "version": 3
   },
   "file_extension": ".py",
   "mimetype": "text/x-python",
   "name": "python",
   "nbconvert_exporter": "python",
   "pygments_lexer": "ipython3",
   "version": "3.7.6"
  }
 },
 "nbformat": 4,
 "nbformat_minor": 4
}
