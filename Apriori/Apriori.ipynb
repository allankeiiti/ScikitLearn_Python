{
 "cells": [
  {
   "cell_type": "markdown",
   "metadata": {},
   "source": [
    "#### Explicando Algoritmo Apriori (Associação) com base no curso de ML do Jones Granatyr"
   ]
  },
  {
   "cell_type": "code",
   "execution_count": 1,
   "metadata": {},
   "outputs": [
    {
     "data": {
      "text/html": [
       "<div>\n",
       "<style scoped>\n",
       "    .dataframe tbody tr th:only-of-type {\n",
       "        vertical-align: middle;\n",
       "    }\n",
       "\n",
       "    .dataframe tbody tr th {\n",
       "        vertical-align: top;\n",
       "    }\n",
       "\n",
       "    .dataframe thead th {\n",
       "        text-align: right;\n",
       "    }\n",
       "</style>\n",
       "<table border=\"1\" class=\"dataframe\">\n",
       "  <thead>\n",
       "    <tr style=\"text-align: right;\">\n",
       "      <th></th>\n",
       "      <th>Leite</th>\n",
       "      <th>Café</th>\n",
       "      <th>Cerveja</th>\n",
       "      <th>Pão</th>\n",
       "      <th>Manteiga</th>\n",
       "      <th>Arroz</th>\n",
       "      <th>Feijão</th>\n",
       "    </tr>\n",
       "  </thead>\n",
       "  <tbody>\n",
       "    <tr>\n",
       "      <th>0</th>\n",
       "      <td>False</td>\n",
       "      <td>True</td>\n",
       "      <td>False</td>\n",
       "      <td>True</td>\n",
       "      <td>True</td>\n",
       "      <td>False</td>\n",
       "      <td>False</td>\n",
       "    </tr>\n",
       "    <tr>\n",
       "      <th>1</th>\n",
       "      <td>True</td>\n",
       "      <td>False</td>\n",
       "      <td>True</td>\n",
       "      <td>True</td>\n",
       "      <td>True</td>\n",
       "      <td>False</td>\n",
       "      <td>False</td>\n",
       "    </tr>\n",
       "    <tr>\n",
       "      <th>2</th>\n",
       "      <td>False</td>\n",
       "      <td>True</td>\n",
       "      <td>False</td>\n",
       "      <td>True</td>\n",
       "      <td>True</td>\n",
       "      <td>False</td>\n",
       "      <td>False</td>\n",
       "    </tr>\n",
       "    <tr>\n",
       "      <th>3</th>\n",
       "      <td>True</td>\n",
       "      <td>True</td>\n",
       "      <td>False</td>\n",
       "      <td>True</td>\n",
       "      <td>True</td>\n",
       "      <td>False</td>\n",
       "      <td>False</td>\n",
       "    </tr>\n",
       "    <tr>\n",
       "      <th>4</th>\n",
       "      <td>False</td>\n",
       "      <td>False</td>\n",
       "      <td>True</td>\n",
       "      <td>False</td>\n",
       "      <td>False</td>\n",
       "      <td>False</td>\n",
       "      <td>False</td>\n",
       "    </tr>\n",
       "    <tr>\n",
       "      <th>5</th>\n",
       "      <td>False</td>\n",
       "      <td>False</td>\n",
       "      <td>False</td>\n",
       "      <td>False</td>\n",
       "      <td>True</td>\n",
       "      <td>False</td>\n",
       "      <td>False</td>\n",
       "    </tr>\n",
       "    <tr>\n",
       "      <th>6</th>\n",
       "      <td>False</td>\n",
       "      <td>False</td>\n",
       "      <td>False</td>\n",
       "      <td>True</td>\n",
       "      <td>False</td>\n",
       "      <td>False</td>\n",
       "      <td>False</td>\n",
       "    </tr>\n",
       "    <tr>\n",
       "      <th>7</th>\n",
       "      <td>False</td>\n",
       "      <td>False</td>\n",
       "      <td>False</td>\n",
       "      <td>False</td>\n",
       "      <td>False</td>\n",
       "      <td>False</td>\n",
       "      <td>True</td>\n",
       "    </tr>\n",
       "    <tr>\n",
       "      <th>8</th>\n",
       "      <td>False</td>\n",
       "      <td>False</td>\n",
       "      <td>False</td>\n",
       "      <td>False</td>\n",
       "      <td>False</td>\n",
       "      <td>True</td>\n",
       "      <td>True</td>\n",
       "    </tr>\n",
       "    <tr>\n",
       "      <th>9</th>\n",
       "      <td>False</td>\n",
       "      <td>False</td>\n",
       "      <td>False</td>\n",
       "      <td>False</td>\n",
       "      <td>False</td>\n",
       "      <td>True</td>\n",
       "      <td>False</td>\n",
       "    </tr>\n",
       "  </tbody>\n",
       "</table>\n",
       "</div>"
      ],
      "text/plain": [
       "   Leite   Café  Cerveja    Pão  Manteiga  Arroz  Feijão\n",
       "0  False   True    False   True      True  False   False\n",
       "1   True  False     True   True      True  False   False\n",
       "2  False   True    False   True      True  False   False\n",
       "3   True   True    False   True      True  False   False\n",
       "4  False  False     True  False     False  False   False\n",
       "5  False  False    False  False      True  False   False\n",
       "6  False  False    False   True     False  False   False\n",
       "7  False  False    False  False     False  False    True\n",
       "8  False  False    False  False     False   True    True\n",
       "9  False  False    False  False     False   True   False"
      ]
     },
     "execution_count": 1,
     "metadata": {},
     "output_type": "execute_result"
    }
   ],
   "source": [
    "import pandas as pd\n",
    "d = {'Leite': [False, True, False, True, False, False, False, False, False, False],\n",
    "     'Café': [True, False, True, True, False, False, False, False, False, False],\n",
    "     'Cerveja': [False, True, False, False, True, False, False, False, False, False],\n",
    "     'Pão': [True, True, True, True, False, False, True, False, False, False],\n",
    "     'Manteiga': [True, True, True, True, False, True, False, False, False, False],\n",
    "     'Arroz': [False, False, False, False, False, False, False, False, True, True],\n",
    "     'Feijão': [False, False, False, False, False, False, False, True, True, False]}\n",
    "df = pd.DataFrame(data=d)\n",
    "del d\n",
    "df"
   ]
  },
  {
   "cell_type": "markdown",
   "metadata": {},
   "source": [
    "#### Apriori - Fase 1 (Suporte)\n",
    "##### O suporte é a medida que indica a frequência de um conjunto de itens<br> Iremos considerar apenas os registros que mais aparecem na base de dados e desconsiderar aqueles que menos aparecem.<br> e o suporte o usuário que especifica. Neste exemplo é considerado apenas os registros >0.5 (50% de freq.)"
   ]
  },
  {
   "cell_type": "markdown",
   "metadata": {},
   "source": [
    "##### Passo 1: Calcular o suporte de conjunto com apenas 1 Itemset"
   ]
  },
  {
   "cell_type": "code",
   "execution_count": 2,
   "metadata": {},
   "outputs": [],
   "source": [
    "# Criando um novo DataFrame apenas de Quantidade de Frequencia\n",
    "# Qnt\n",
    "df_sup = pd.DataFrame(\n",
    "                      index=[df.columns], \n",
    "                      columns=['Qnt', 'Suporte'])\n",
    "for item in df_sup.index:\n",
    "    item = item[0]\n",
    "    df_sup['Qnt'][item] = df.loc[df[item]].count()[0]\n",
    "# Freq\n",
    "df_sup.Suporte = df_sup.Qnt / len(df)"
   ]
  },
  {
   "cell_type": "markdown",
   "metadata": {},
   "source": [
    "#### Tabela de Suporte"
   ]
  },
  {
   "cell_type": "code",
   "execution_count": 3,
   "metadata": {},
   "outputs": [
    {
     "data": {
      "text/html": [
       "<div>\n",
       "<style scoped>\n",
       "    .dataframe tbody tr th:only-of-type {\n",
       "        vertical-align: middle;\n",
       "    }\n",
       "\n",
       "    .dataframe tbody tr th {\n",
       "        vertical-align: top;\n",
       "    }\n",
       "\n",
       "    .dataframe thead th {\n",
       "        text-align: right;\n",
       "    }\n",
       "</style>\n",
       "<table border=\"1\" class=\"dataframe\">\n",
       "  <thead>\n",
       "    <tr style=\"text-align: right;\">\n",
       "      <th></th>\n",
       "      <th>Qnt</th>\n",
       "      <th>Suporte</th>\n",
       "    </tr>\n",
       "  </thead>\n",
       "  <tbody>\n",
       "    <tr>\n",
       "      <th>Leite</th>\n",
       "      <td>2</td>\n",
       "      <td>0.2</td>\n",
       "    </tr>\n",
       "    <tr>\n",
       "      <th>Café</th>\n",
       "      <td>3</td>\n",
       "      <td>0.3</td>\n",
       "    </tr>\n",
       "    <tr>\n",
       "      <th>Cerveja</th>\n",
       "      <td>2</td>\n",
       "      <td>0.2</td>\n",
       "    </tr>\n",
       "    <tr>\n",
       "      <th>Pão</th>\n",
       "      <td>5</td>\n",
       "      <td>0.5</td>\n",
       "    </tr>\n",
       "    <tr>\n",
       "      <th>Manteiga</th>\n",
       "      <td>5</td>\n",
       "      <td>0.5</td>\n",
       "    </tr>\n",
       "    <tr>\n",
       "      <th>Arroz</th>\n",
       "      <td>2</td>\n",
       "      <td>0.2</td>\n",
       "    </tr>\n",
       "    <tr>\n",
       "      <th>Feijão</th>\n",
       "      <td>2</td>\n",
       "      <td>0.2</td>\n",
       "    </tr>\n",
       "  </tbody>\n",
       "</table>\n",
       "</div>"
      ],
      "text/plain": [
       "         Qnt Suporte\n",
       "Leite      2     0.2\n",
       "Café       3     0.3\n",
       "Cerveja    2     0.2\n",
       "Pão        5     0.5\n",
       "Manteiga   5     0.5\n",
       "Arroz      2     0.2\n",
       "Feijão     2     0.2"
      ]
     },
     "execution_count": 3,
     "metadata": {},
     "output_type": "execute_result"
    }
   ],
   "source": [
    "df_sup"
   ]
  },
  {
   "cell_type": "markdown",
   "metadata": {},
   "source": [
    "##### Neste caso, vamos apenas considerar items com Suporte >= 0.3, ou seja, iremos desconsiderar o Leite, Cerveja, Arroz e Feijão."
   ]
  },
  {
   "cell_type": "code",
   "execution_count": 4,
   "metadata": {},
   "outputs": [],
   "source": [
    "del df['Leite'], df['Cerveja'], df['Arroz'], df['Feijão']"
   ]
  },
  {
   "cell_type": "code",
   "execution_count": 5,
   "metadata": {},
   "outputs": [
    {
     "data": {
      "text/html": [
       "<div>\n",
       "<style scoped>\n",
       "    .dataframe tbody tr th:only-of-type {\n",
       "        vertical-align: middle;\n",
       "    }\n",
       "\n",
       "    .dataframe tbody tr th {\n",
       "        vertical-align: top;\n",
       "    }\n",
       "\n",
       "    .dataframe thead th {\n",
       "        text-align: right;\n",
       "    }\n",
       "</style>\n",
       "<table border=\"1\" class=\"dataframe\">\n",
       "  <thead>\n",
       "    <tr style=\"text-align: right;\">\n",
       "      <th></th>\n",
       "      <th>Café</th>\n",
       "      <th>Pão</th>\n",
       "      <th>Manteiga</th>\n",
       "    </tr>\n",
       "  </thead>\n",
       "  <tbody>\n",
       "    <tr>\n",
       "      <th>0</th>\n",
       "      <td>True</td>\n",
       "      <td>True</td>\n",
       "      <td>True</td>\n",
       "    </tr>\n",
       "    <tr>\n",
       "      <th>1</th>\n",
       "      <td>False</td>\n",
       "      <td>True</td>\n",
       "      <td>True</td>\n",
       "    </tr>\n",
       "    <tr>\n",
       "      <th>2</th>\n",
       "      <td>True</td>\n",
       "      <td>True</td>\n",
       "      <td>True</td>\n",
       "    </tr>\n",
       "    <tr>\n",
       "      <th>3</th>\n",
       "      <td>True</td>\n",
       "      <td>True</td>\n",
       "      <td>True</td>\n",
       "    </tr>\n",
       "    <tr>\n",
       "      <th>4</th>\n",
       "      <td>False</td>\n",
       "      <td>False</td>\n",
       "      <td>False</td>\n",
       "    </tr>\n",
       "    <tr>\n",
       "      <th>5</th>\n",
       "      <td>False</td>\n",
       "      <td>False</td>\n",
       "      <td>True</td>\n",
       "    </tr>\n",
       "    <tr>\n",
       "      <th>6</th>\n",
       "      <td>False</td>\n",
       "      <td>True</td>\n",
       "      <td>False</td>\n",
       "    </tr>\n",
       "    <tr>\n",
       "      <th>7</th>\n",
       "      <td>False</td>\n",
       "      <td>False</td>\n",
       "      <td>False</td>\n",
       "    </tr>\n",
       "    <tr>\n",
       "      <th>8</th>\n",
       "      <td>False</td>\n",
       "      <td>False</td>\n",
       "      <td>False</td>\n",
       "    </tr>\n",
       "    <tr>\n",
       "      <th>9</th>\n",
       "      <td>False</td>\n",
       "      <td>False</td>\n",
       "      <td>False</td>\n",
       "    </tr>\n",
       "  </tbody>\n",
       "</table>\n",
       "</div>"
      ],
      "text/plain": [
       "    Café    Pão  Manteiga\n",
       "0   True   True      True\n",
       "1  False   True      True\n",
       "2   True   True      True\n",
       "3   True   True      True\n",
       "4  False  False     False\n",
       "5  False  False      True\n",
       "6  False   True     False\n",
       "7  False  False     False\n",
       "8  False  False     False\n",
       "9  False  False     False"
      ]
     },
     "execution_count": 5,
     "metadata": {},
     "output_type": "execute_result"
    }
   ],
   "source": [
    "df"
   ]
  },
  {
   "cell_type": "markdown",
   "metadata": {},
   "source": [
    "#### Passo 2 da Fase 1 (Suporte): Calcular o suporte de conjuntos com 2 items."
   ]
  },
  {
   "cell_type": "code",
   "execution_count": 15,
   "metadata": {},
   "outputs": [
    {
     "name": "stdout",
     "output_type": "stream",
     "text": [
      "Café, pão:  0.3\n",
      "Café, manteiga:  0.3\n",
      "Manteiga, pão:  0.4\n"
     ]
    }
   ],
   "source": [
    "# Obtendo o suporte do conjunto Café e Pão:\n",
    "cafepao = len(df.loc[(df['Café']) & (df['Pão'])]) / len(df)\n",
    "print('Café, pão: ',cafepao)\n",
    "# Obtendo o suporte do conjunto Café e Manteiga:\n",
    "cafemanteiga = len(df.loc[(df['Café']) & (df['Manteiga'])]) / len(df)\n",
    "print('Café, manteiga: ',cafemanteiga)\n",
    "# Obtendo o suporte do conjunto Manteiga e Pão:\n",
    "paomanteiga = len(df.loc[(df['Manteiga']) & (df['Pão'])]) / len(df)\n",
    "print('Manteiga, pão: ',paomanteiga)"
   ]
  },
  {
   "cell_type": "markdown",
   "metadata": {},
   "source": [
    "#### Passo 3 da Fase 1 (Suporte): Calcular o suporte de conjuntos com 3 items."
   ]
  },
  {
   "cell_type": "code",
   "execution_count": 16,
   "metadata": {},
   "outputs": [
    {
     "name": "stdout",
     "output_type": "stream",
     "text": [
      "Café, pão, manteiga:  0.3\n"
     ]
    }
   ],
   "source": [
    "# Obtendo o suporte do conjunto Café, Pão e Manteiga:\n",
    "cafepaomanteiga = len(df.loc[(df['Café']) & (df['Pão']) & (df['Manteiga'])]) / len(df)\n",
    "print('Café, pão, manteiga: ',cafepaomanteiga)"
   ]
  },
  {
   "cell_type": "markdown",
   "metadata": {},
   "source": [
    "#### Apriori - Fase 2 (Confiança)\n",
    "##### A confiança é a medida que define a probabilidade de ocorrência de combinação de um item, sua fórmula:</br>  <b>confiança = Números com X e Y / Número total de registros com X</b>\n",
    "    \n",
    "##### é estipulado a confiança >= 0.8 (80%)\n",
    "##### Definindo as regras (2 Items): <br> SE CAFÉ ENTÃO PÃO - 3 / 3 = 1,0 (REGRA 100%)<br> SE PÃO ENTÃO CAFÉ - 3 / 5 = 0,6 (REGRA 60%)<br>SE CAFÉ ENTÃO MANTEIGA - 3 / 3 = 1,0<br> SE MANTEIGA ENTÃO PÃO - 3 / 5 = 0,6<br>SE PÃO ENTÃO MANTEIGA - 4 / 5 = 0,8<br>SE MANTEIGA ENTÃO PÃO - 4 / 5 = 0,8\n",
    "##### Definindo as regras (3 Items): <br> SE CAFÉ, PÃO ENTÃO MANTEIGA - 3 / 3 = 1,0 <br> SE CAFÉ, MANTEIGA ENTÃO PÃO - 3 / 3 = 1,0 <br> SE PÃO, MANTEIGA ENTÃO CAFÉ - 3 / 4 = 0,75 <br> SE CAFÉ ENTÃO PÃO, MANTEIGA = 3 / 5 = 0,6 <br> SE MANTEIGA ENTÃO CAFÉ, PÃO - 3 / 5 = 0,6"
   ]
  },
  {
   "cell_type": "markdown",
   "metadata": {},
   "source": [
    "#### Apriori - Lift (Vindo do verbo Elevar)\n",
    "##### É utilizado para medir o quão confiável uma regra de associação é. Sua fórmula: <br> Lift A > B (o quão mais frequente torna-se B quando A ocorre) <br> Lift = confiança(A > B)/suporte(B) <br> Verificando o exemplo: <br> SE café ENTÃO pão:\n",
    "##### confiança = 3/3 = 1,0 -> lift(1/0,5) = 2 (clientes que compram café tem 2x mais chances de comprarem pão)"
   ]
  },
  {
   "cell_type": "code",
   "execution_count": null,
   "metadata": {},
   "outputs": [],
   "source": []
  }
 ],
 "metadata": {
  "kernelspec": {
   "display_name": "Python 3",
   "language": "python",
   "name": "python3"
  },
  "language_info": {
   "codemirror_mode": {
    "name": "ipython",
    "version": 3
   },
   "file_extension": ".py",
   "mimetype": "text/x-python",
   "name": "python",
   "nbconvert_exporter": "python",
   "pygments_lexer": "ipython3",
   "version": "3.7.6"
  }
 },
 "nbformat": 4,
 "nbformat_minor": 4
}
